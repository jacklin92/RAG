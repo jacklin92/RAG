{
 "cells": [
  {
   "cell_type": "markdown",
   "id": "7448e1ef",
   "metadata": {},
   "source": [
    "## 任務類型\n",
    "資料擷取 (Data Ingestion) 與 ETL (Extract, Transform, Load)\n",
    "\n",
    "## 任務目標\n",
    "自動登入指定的 Gmail 帳戶，擷取固定數量(自行設定)的電子郵件。它會解析郵件內容（包含純文字與 HTML），進行文字清理（移除 URL、引言符號等），然後將乾淨的文字區塊儲存到一個名為 vault.txt 的檔案中，作為接下來RAG系統的檢索來源。"
   ]
  },
  {
   "cell_type": "code",
   "execution_count": null,
   "id": "56a3cf9a",
   "metadata": {},
   "outputs": [],
   "source": [
    "#pip install -r requirements.txt"
   ]
  },
  {
   "cell_type": "markdown",
   "id": "be2043a9",
   "metadata": {},
   "source": [
    "### 步驟 1｜匯入所有需要的函式庫\n",
    "**logging**在cell輸出紀錄\n",
    "\n",
    "**dotenv**讀取env中的環境變數\n",
    "\n",
    "**imap_tools**用於連接IMAP伺服器(如 Gmail)並擷取郵件"
   ]
  },
  {
   "cell_type": "code",
   "execution_count": null,
   "id": "f63963d9",
   "metadata": {},
   "outputs": [],
   "source": [
    "import os\n",
    "import re\n",
    "import logging\n",
    "from datetime import datetime\n",
    "from dotenv import load_dotenv\n",
    "from bs4 import BeautifulSoup\n",
    "from imap_tools import MailBox\n",
    "from dotenv import load_dotenv\n"
   ]
  },
  {
   "cell_type": "markdown",
   "id": "eb643b0c",
   "metadata": {},
   "source": [
    "### 步驟 2｜設定logging的格式\n",
    "**load_dotenv()**:讀取env中的環境變數。\n",
    "\n",
    "**logging.basicConfig()**:設定logging的基本組態，讓記錄包含時間戳、等級和訊息。"
   ]
  },
  {
   "cell_type": "code",
   "execution_count": null,
   "id": "cec43f25",
   "metadata": {},
   "outputs": [],
   "source": [
    "load_dotenv()  \n",
    "logging.basicConfig(\n",
    "    level=logging.INFO, format=\"%(asctime)s - %(levelname)s - %(message)s\"\n",
    ")\n"
   ]
  },
  {
   "cell_type": "markdown",
   "id": "587c0ef8",
   "metadata": {},
   "source": [
    "### 步驟 3｜提取Gmail資料\n",
    "**get_email_content(mail)**:\n",
    "\n",
    "從 imap-tools 的 mail 物件中提取純文字內容(mail.text)。\n",
    "\n",
    "如果失敗(例如郵件只有HTML)則改用 BeautifulSoup 來解析 mail.html 並提取文字。"
   ]
  },
  {
   "cell_type": "code",
   "execution_count": null,
   "id": "253fe15b",
   "metadata": {},
   "outputs": [],
   "source": [
    "def get_email_content(mail):\n",
    "    if not text_content and mail.html:\n",
    "        logging.debug(f\"Email UID {mail.uid}: No plain text found, parsing HTML.\")\n",
    "        try:\n",
    "            soup = BeautifulSoup(mail.html, \"lxml\")\n",
    "            text_content = soup.get_text(separator=\" \", strip=True)\n",
    "        except Exception as e:\n",
    "            logging.warning(f\"Failed to parse HTML for email UID {mail.uid}: {e}\")\n",
    "            text_content = \"\" \n",
    "    return text_content"
   ]
  },
  {
   "cell_type": "markdown",
   "id": "f4e86e83",
   "metadata": {},
   "source": [
    "### 步驟 4｜設計資料前處理功能\n",
    "**chunk_text(text, max_length=1000)**:\n",
    "\n",
    "此函式負責「清理」和「分割」文字區塊：\n",
    "\n",
    "1. 移除郵件引言符號 (>) 和分隔符 (---)。\n",
    "\n",
    "2. 移除 URLs。\n",
    "\n",
    "3. 標準化空白字元。\n",
    "\n",
    "4. 使用正規表示式將文章切分為句子。\n",
    "\n",
    "5. 將句子組合成不大於 1000 字元的**文字區塊(chunks)。**"
   ]
  },
  {
   "cell_type": "code",
   "execution_count": null,
   "id": "0828486e",
   "metadata": {},
   "outputs": [],
   "source": [
    "def chunk_text(text, max_length=1000):\n",
    "    text = re.sub(r\"\\s*(?:>\\s*){2,}\", \" \", text)\n",
    "    text = re.sub(r\"-{3,}\", \" \", text)\n",
    "    text = re.sub(r\"_{3,}\", \" \", text)\n",
    "    text = re.sub(r\"https?://\\S+|www\\S+\", \"\", text)\n",
    "    text = re.sub(r\"\\s+\", \" \", text).strip()\n",
    "    sentences = re.split(r\"(?<=[.!?]) +\", text)\n",
    "    chunks = []\n",
    "    current_chunk = \"\"\n",
    "    for sentence in sentences:\n",
    "        if len(current_chunk) + len(sentence) + 1 <= max_length:\n",
    "            current_chunk += (sentence + \" \").strip()\n",
    "        else:\n",
    "            if current_chunk:\n",
    "                chunks.append(current_chunk)\n",
    "\n",
    "            if len(sentence) > max_length:\n",
    "                chunks.append(sentence[:max_length])\n",
    "                current_chunk = sentence[max_length:] + \" \"\n",
    "            else:\n",
    "                current_chunk = sentence + \" \"\n",
    "\n",
    "    if current_chunk:\n",
    "        chunks.append(current_chunk.strip())\n",
    "\n",
    "    return chunks"
   ]
  },
  {
   "cell_type": "markdown",
   "id": "a46a8b99",
   "metadata": {},
   "source": [
    "### 步驟 5｜設計處理後資料的存取方式\n",
    "**save_chunks_to_vault(chunk)**:\n",
    "\n",
    "以附加append(也可以選擇使用write)模式開啟vault.txt，並將傳入的文字塊(chunks)逐一寫入檔案，每個區塊之間用兩個換行符分隔。"
   ]
  },
  {
   "cell_type": "code",
   "execution_count": null,
   "id": "88d32d11",
   "metadata": {},
   "outputs": [],
   "source": [
    "def save_chunks_to_vault(chunks):\n",
    "    vault_path = \"vault.txt\"\n",
    "    try:\n",
    "        with open(vault_path, \"a\", encoding=\"utf-8\") as vault_file:\n",
    "            for chunk in chunks:\n",
    "                vault_file.write(chunk.strip() + \"\\n\\n\")\n",
    "    except IOError as e:\n",
    "        logging.error(f\"Failed to write to vault file {vault_path}: {e}\")\n"
   ]
  },
  {
   "cell_type": "markdown",
   "id": "cde5c1bb",
   "metadata": {},
   "source": [
    "### 步驟 6｜設計擷取Gmail資料之流程\n",
    "**search_and_process_emails(client, email_source, search_keyword, start_date, end_date, limit)** :\n",
    "\n",
    "1. 根據傳入的日期和關鍵字建立 IMAP 搜尋條件。\n",
    "\n",
    "2. 如果設定了 limit（限制數量），它會設定 reverse=True 來確保抓取的是「最新」的 N 封郵件。\n",
    "\n",
    "3. 使用 client.fetch 執行搜尋並迭代每封郵件。\n",
    "\n",
    "4. 對每封郵件呼叫 get_email_content 來取文字。\n",
    "\n",
    "5. 呼叫 chunk_text 來清理和分塊。\n",
    "\n",
    "6. 呼叫 save_chunks_to_vault 來儲存。"
   ]
  },
  {
   "cell_type": "code",
   "execution_count": null,
   "id": "d8ecc719",
   "metadata": {},
   "outputs": [],
   "source": [
    "def search_and_process_emails(client, email_source, search_keyword, start_date, end_date, limit):\n",
    "    criteria = []\n",
    "    if start_date:\n",
    "        criteria.append(f\"SINCE {start_date}\")\n",
    "    if end_date:\n",
    "        criteria.append(f\"BEFORE {end_date}\")\n",
    "    if search_keyword:\n",
    "        criteria.append(f'BODY \"{search_keyword}\"')\n",
    "\n",
    "    search_query = \" \".join(criteria)\n",
    "    if not search_query:\n",
    "        search_query = \"ALL\"\n",
    "\n",
    "    logging.info(f\"Using search criteria for {email_source}: {search_query}\")\n",
    "    fetch_limit = None\n",
    "    fetch_reverse = False\n",
    "    if limit:\n",
    "        logging.info(f\"Limiting fetch to the {limit} most recent emails.\")\n",
    "        fetch_limit = limit\n",
    "        fetch_reverse = True \n",
    "    try:\n",
    "        mail_count = 0\n",
    "        found_content = False\n",
    "        for mail in client.fetch(\n",
    "            search_query, mark_seen=False, limit=fetch_limit, reverse=fetch_reverse\n",
    "        ):\n",
    "            mail_count += 1\n",
    "            logging.info(\n",
    "                f\"Processing {email_source} email UID: {mail.uid}, Subject: {mail.subject}\"\n",
    "            )\n",
    "\n",
    "            try:\n",
    "                text_content = get_email_content(mail)\n",
    "\n",
    "                if text_content:\n",
    "                    chunks = chunk_text(text_content)\n",
    "                    if chunks:\n",
    "                        save_chunks_to_vault(chunks)\n",
    "                        found_content = True\n",
    "                else:\n",
    "                    logging.info(\n",
    "                        f\"Email UID {mail.uid} had no processable text content.\"\n",
    "                    )\n",
    "\n",
    "            except Exception as e:\n",
    "                logging.error(\n",
    "                    f\"Failed to process email UID: {mail.uid} from {email_source}. Error: {e}\",\n",
    "                    exc_info=True,\n",
    "                )\n",
    "\n",
    "        if mail_count == 0:\n",
    "            logging.warning(f\"No emails found matching criteria in {email_source}.\")\n",
    "        elif not found_content:\n",
    "            logging.warning(\n",
    "                f\"Found {mail_count} emails, but no processable text content was extracted to save to 'vault.txt'.\"\n",
    "            )\n",
    "        else:\n",
    "            logging.info(\n",
    "                f\"Found and processed {mail_count} emails. Content saved to 'vault.txt'.\"\n",
    "            )\n",
    "\n",
    "    except Exception as e:\n",
    "        logging.error(f\"Failed to search or fetch emails from {email_source}: {e}\")\n"
   ]
  },
  {
   "cell_type": "markdown",
   "id": "5e5e4801",
   "metadata": {},
   "source": [
    "### 步驟 7｜定義主程式\n",
    "**main()** :\n",
    "\n",
    "1. 手動設定參數: 在這裡，命令列參數被移除，改為手動設定變數，例如 LIMIT = 50（只抓最新50封）。\n",
    "\n",
    "2. 清空 Vault: 檢查如果 LIMIT 被設定，程式會「刪除」舊的 vault.txt。\n",
    "\n",
    "3. 載入憑證: 從環境變數讀取 GMAIL_USERNAME 和 GMAIL_PASSWORD。\n",
    "\n",
    "4. 登入: 使用 MailBox(\"imap.gmail.com\").login(...) 連接到 Gmail。\n",
    "\n",
    "5. 執行: 呼叫 search_and_process_emails 來啟動整個擷取流程。"
   ]
  },
  {
   "cell_type": "code",
   "execution_count": null,
   "id": "645329d1",
   "metadata": {},
   "outputs": [],
   "source": [
    "\n",
    "\n",
    "\n",
    "def main():\n",
    "    KEYWORD = \"\"  # 搜尋的關鍵字，留空則為全部\n",
    "    START_DATE = None  # \"DD.MM.YYYY\" 格式, e.g., \"01.10.2025\"\n",
    "    END_DATE = None    # \"DD.MM.YYYY\" 格式\n",
    "    LIMIT = 50          # 限制讀取最新 N 封郵件, 設為 None 則不限制\n",
    "    start_date_imap = None\n",
    "    end_date_imap = None\n",
    "    try:\n",
    "        if START_DATE:\n",
    "            start_date_imap = datetime.strptime(START_DATE, \"%d.%m.%Y\").strftime(\n",
    "                \"%d-%b-%Y\"\n",
    "            )\n",
    "        if END_DATE:\n",
    "            end_date_imap = datetime.strptime(END_DATE, \"%d.%m.%Y\").strftime(\n",
    "                \"%d-%b-%Y\"\n",
    "            )\n",
    "    except ValueError as e:\n",
    "        logging.error(\n",
    "            f\"Date format is incorrect. Please use DD.MM.YYYY format. Details: {e}\"\n",
    "        )\n",
    "        return\n",
    "    if LIMIT:\n",
    "        vault_path = \"vault.txt\"\n",
    "        logging.warning(\n",
    "            f\"Using LIMIT={LIMIT}. This will clear '{vault_path}' for a fresh snapshot.\"\n",
    "        )\n",
    "        if os.path.exists(vault_path):\n",
    "            try:\n",
    "                os.remove(vault_path)\n",
    "                logging.info(f\"Successfully cleared old '{vault_path}'.\")\n",
    "            except OSError as e:\n",
    "                logging.error(f\"Failed to clear '{vault_path}': {e}. Exiting.\")\n",
    "                return\n",
    "    gmail_username = os.getenv(\"GMAIL_USERNAME\")\n",
    "    gmail_password = os.getenv(\"GMAIL_PASSWORD\")\n",
    "    if not gmail_username or not gmail_password:\n",
    "        logging.error(\"GMAIL_USERNAME or GMAIL_PASSWORD not set in .env file. Exiting.\")\n",
    "        logging.error(\n",
    "            \"Reminder: For Gmail, you must use a 16-digit 'App Password', not your regular password.\"\n",
    "        )\n",
    "        return\n",
    "    try:\n",
    "        logging.info(f\"Connecting to Gmail as {gmail_username}...\")\n",
    "        with MailBox(\"imap.gmail.com\").login(\n",
    "            gmail_username, gmail_password, initial_folder=\"inbox\"\n",
    "        ) as M:\n",
    "            logging.info(f\"Successfully connected to Gmail.\")\n",
    "            search_and_process_emails(\n",
    "                M, \"Gmail\", KEYWORD, start_date_imap, end_date_imap, LIMIT\n",
    "            )\n",
    "    except Exception as e:\n",
    "        logging.error(f\"Failed to connect or login to Gmail: {e}\", exc_info=True)\n",
    "        logging.error(\n",
    "            \"Please check your network connection and ensure you are using a 16-digit 'App Password' for GMAIL_PASSWORD in your .env file.\"\n",
    "        )\n",
    "    logging.info(\"Email processing finished.\")"
   ]
  },
  {
   "cell_type": "code",
   "execution_count": 11,
   "id": "714e6431",
   "metadata": {},
   "outputs": [
    {
     "name": "stderr",
     "output_type": "stream",
     "text": [
      "2025-10-28 21:03:08,182 - WARNING - Using LIMIT=5. This will clear 'vault.txt' for a fresh snapshot.\n",
      "2025-10-28 21:03:08,184 - INFO - Connecting to Gmail as jack920312lin@gmail.com...\n",
      "2025-10-28 21:03:09,542 - INFO - Successfully connected to Gmail.\n",
      "2025-10-28 21:03:09,544 - INFO - Using search criteria for Gmail: ALL\n",
      "2025-10-28 21:03:09,544 - INFO - Limiting fetch to the 5 most recent emails.\n",
      "2025-10-28 21:03:10,288 - INFO - Processing Gmail email UID: 756, Subject: The Monthly Build - Google Developer Program - October 2025\n",
      "2025-10-28 21:03:10,526 - INFO - Processing Gmail email UID: 755, Subject: Zoom Courses + Conferences + Special Issues\n",
      "2025-10-28 21:03:10,866 - INFO - Processing Gmail email UID: 754, Subject: 暐捷，快來領取每週獎勵 🎉\n",
      "2025-10-28 21:03:11,088 - INFO - Processing Gmail email UID: 753, Subject: 安全性快訊\n",
      "2025-10-28 21:03:11,347 - INFO - Processing Gmail email UID: 752, Subject: 你的評論在 Google 地圖上大受歡迎！\n",
      "2025-10-28 21:03:11,348 - INFO - Found and processed 5 emails. Content saved to 'vault.txt'.\n",
      "2025-10-28 21:03:11,548 - INFO - Email processing finished.\n"
     ]
    }
   ],
   "source": [
    "main()"
   ]
  }
 ],
 "metadata": {
  "kernelspec": {
   "display_name": "Python 3",
   "language": "python",
   "name": "python3"
  },
  "language_info": {
   "codemirror_mode": {
    "name": "ipython",
    "version": 3
   },
   "file_extension": ".py",
   "mimetype": "text/x-python",
   "name": "python",
   "nbconvert_exporter": "python",
   "pygments_lexer": "ipython3",
   "version": "3.9.13"
  }
 },
 "nbformat": 4,
 "nbformat_minor": 5
}
